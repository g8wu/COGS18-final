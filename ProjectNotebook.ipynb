{
 "cells": [
  {
   "cell_type": "markdown",
   "metadata": {},
   "source": [
    "# Project Description"
   ]
  },
  {
   "cell_type": "markdown",
   "metadata": {},
   "source": [
    "Purpose: User interface to select a file and show it on a GUI window.\n"
   ]
  },
  {
   "cell_type": "markdown",
   "metadata": {},
   "source": [
    "## [Github](https://github.com/g8wu/COGS18.git)\n",
    "\n",
    "This project is also available as a downloadable repository on Ginny Wu's [Github](https://github.com/g8wu) under the repository COGS18 final"
   ]
  },
  {
   "cell_type": "markdown",
   "metadata": {},
   "source": [
    "## My Code\n"
   ]
  },
  {
   "cell_type": "markdown",
   "metadata": {},
   "source": [
    "Imported packages"
   ]
  },
  {
   "cell_type": "code",
   "execution_count": 1,
   "metadata": {},
   "outputs": [],
   "source": [
    "from math import sqrt\n",
    "from skimage import data\n",
    "import matplotlib.pyplot as plt\n",
    "from PIL import Image, ImageTk\n",
    "\n",
    "#from tkinter import filedialog\n",
    "from tkinter.filedialog import askopenfilename\n",
    "from tkinter import *"
   ]
  },
  {
   "cell_type": "markdown",
   "metadata": {},
   "source": [
    "Class for file path display"
   ]
  },
  {
   "cell_type": "code",
   "execution_count": 2,
   "metadata": {},
   "outputs": [],
   "source": [
    "class filePath():\n",
    "    \n",
    "    def __init__(self, master = None):\n",
    "        self.master = master\n",
    "        self.init_window()       # Start GUI window\n",
    "        \n",
    "    def init_window(self):\n",
    "        \"\"\"Intitialize GUI window using tkinter. Request user input of image file.\"\"\"\n",
    "        root = Tk()\n",
    "        root.title(\"Image Pathing\")\n",
    "        image_File = \"\"             # Global container for filepath\n",
    "\n",
    "        # Button to import image\n",
    "        imgBrowse = Button(root, text=\"Import image\",command = self.getImg)\n",
    "        imgBrowse.pack(side = LEFT)\n",
    "        \n",
    "        root.mainloop()\n",
    "    \n",
    "    def getImg(self):\n",
    "        \"\"\"Prompts user with File Explorer to select image. \n",
    "        A Tkinter window is used to initiate but is withdrawn to show only File Explorer.\n",
    "        Passes image filepath to global container image_File.\"\"\"\n",
    "        Tk().withdraw()\n",
    "        image_File = askopenfilename()\n",
    "        \n",
    "        # Prints image filepath to terminal if successfully imported\n",
    "        print(image_File)\n",
    "        \n",
    "        \n",
    "        \n",
    "        return (image_File)\n",
    "        \n",
    "    "
   ]
  },
  {
   "cell_type": "code",
   "execution_count": null,
   "metadata": {},
   "outputs": [
    {
     "name": "stdout",
     "output_type": "stream",
     "text": [
      "C:/Users/Ginny Wu/Documents/OneDrive/Pictures/_20170402_184727.JPG\n"
     ]
    }
   ],
   "source": [
    "# instance of class\n",
    "filePath()"
   ]
  },
  {
   "cell_type": "code",
   "execution_count": null,
   "metadata": {},
   "outputs": [],
   "source": []
  }
 ],
 "metadata": {
  "kernelspec": {
   "display_name": "Python 3",
   "language": "python",
   "name": "python3"
  },
  "language_info": {
   "codemirror_mode": {
    "name": "ipython",
    "version": 3
   },
   "file_extension": ".py",
   "mimetype": "text/x-python",
   "name": "python",
   "nbconvert_exporter": "python",
   "pygments_lexer": "ipython3",
   "version": "3.7.0"
  }
 },
 "nbformat": 4,
 "nbformat_minor": 2
}
